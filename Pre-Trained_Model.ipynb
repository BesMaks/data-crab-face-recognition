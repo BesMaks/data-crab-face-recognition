{
 "cells": [
  {
   "cell_type": "markdown",
   "metadata": {},
   "source": [
    "# Dlib Model"
   ]
  },
  {
   "cell_type": "markdown",
   "metadata": {},
   "source": [
    "##### Dlib is an open source framework used to figure out facial landmarks which are the salient features of faces like eyes ,  mouth and eyebrows. But here we going to use this to identy or localize face in an image"
   ]
  },
  {
   "cell_type": "code",
   "execution_count": 1,
   "metadata": {},
   "outputs": [],
   "source": [
    "import dlib\n",
    "import cv2\n"
   ]
  },
  {
   "cell_type": "code",
   "execution_count": 2,
   "metadata": {},
   "outputs": [],
   "source": [
    "face_detector = dlib.get_frontal_face_detector()"
   ]
  },
  {
   "cell_type": "code",
   "execution_count": 3,
   "metadata": {},
   "outputs": [
    {
     "name": "stdout",
     "output_type": "stream",
     "text": [
      "Number of Faces ==> 1\n",
      "CPU times: user 122 ms, sys: 4.65 ms, total: 127 ms\n",
      "Wall time: 132 ms\n"
     ]
    },
    {
     "data": {
      "text/plain": [
       "True"
      ]
     },
     "execution_count": 3,
     "metadata": {},
     "output_type": "execute_result"
    }
   ],
   "source": [
    "%%time\n",
    "\n",
    "img = cv2.imread(\"images/single_face.jpg\")\n",
    "bbox = face_detector(img)\n",
    "print(\"Number of Faces ==>\",len(bbox))\n",
    "\n",
    "for faces in bbox:\n",
    "    x,y,width,height = faces.left(),faces.top(),faces.right() - faces.left(),faces.bottom()-faces.top()\n",
    "    cv2.rectangle(img,(x,y),(x+width,y+height),(255,0,0),2)\n",
    "\n",
    "cv2.imwrite(\"output_images/dlib_single_face.jpg\",img)"
   ]
  },
  {
   "cell_type": "markdown",
   "metadata": {},
   "source": [
    "# MTCNN Model"
   ]
  },
  {
   "cell_type": "code",
   "execution_count": 4,
   "metadata": {},
   "outputs": [
    {
     "name": "stderr",
     "output_type": "stream",
     "text": [
      "2022-09-29 10:38:46.459529: W tensorflow/stream_executor/platform/default/dso_loader.cc:64] Could not load dynamic library 'libcudart.so.11.0'; dlerror: libcudart.so.11.0: cannot open shared object file: No such file or directory; LD_LIBRARY_PATH: /home/besmaks/.config/JetBrains/DataSpell2022.1/projects/workspace/venv/lib/python3.8/site-packages/cv2/../../lib64:\n",
      "2022-09-29 10:38:46.459588: I tensorflow/stream_executor/cuda/cudart_stub.cc:29] Ignore above cudart dlerror if you do not have a GPU set up on your machine.\n"
     ]
    }
   ],
   "source": [
    "from mtcnn import MTCNN\n",
    "import cv2"
   ]
  },
  {
   "cell_type": "code",
   "execution_count": 5,
   "metadata": {},
   "outputs": [
    {
     "name": "stderr",
     "output_type": "stream",
     "text": [
      "2022-09-29 10:38:49.322389: W tensorflow/stream_executor/platform/default/dso_loader.cc:64] Could not load dynamic library 'libcuda.so.1'; dlerror: libcuda.so.1: cannot open shared object file: No such file or directory; LD_LIBRARY_PATH: /home/besmaks/.config/JetBrains/DataSpell2022.1/projects/workspace/venv/lib/python3.8/site-packages/cv2/../../lib64:\n",
      "2022-09-29 10:38:49.322436: W tensorflow/stream_executor/cuda/cuda_driver.cc:326] failed call to cuInit: UNKNOWN ERROR (303)\n",
      "2022-09-29 10:38:49.322537: I tensorflow/stream_executor/cuda/cuda_diagnostics.cc:156] kernel driver does not appear to be running on this host (besmaks-NBLK-WAX9X): /proc/driver/nvidia/version does not exist\n",
      "2022-09-29 10:38:49.322966: I tensorflow/core/platform/cpu_feature_guard.cc:142] This TensorFlow binary is optimized with oneAPI Deep Neural Network Library (oneDNN) to use the following CPU instructions in performance-critical operations:  AVX2 FMA\n",
      "To enable them in other operations, rebuild TensorFlow with the appropriate compiler flags.\n"
     ]
    }
   ],
   "source": [
    "face_detector = MTCNN()"
   ]
  },
  {
   "cell_type": "code",
   "execution_count": 6,
   "metadata": {},
   "outputs": [
    {
     "name": "stderr",
     "output_type": "stream",
     "text": [
      "2022-09-29 10:38:50.542668: I tensorflow/compiler/mlir/mlir_graph_optimization_pass.cc:176] None of the MLIR Optimization Passes are enabled (registered 2)\n",
      "2022-09-29 10:38:50.544437: I tensorflow/core/platform/profile_utils/cpu_utils.cc:114] CPU Frequency: 2095889999 Hz\n"
     ]
    },
    {
     "name": "stdout",
     "output_type": "stream",
     "text": [
      "Number of Faces ==> 1\n",
      "CPU times: user 2.48 s, sys: 173 ms, total: 2.66 s\n",
      "Wall time: 2.27 s\n"
     ]
    },
    {
     "data": {
      "text/plain": [
       "True"
      ]
     },
     "execution_count": 6,
     "metadata": {},
     "output_type": "execute_result"
    }
   ],
   "source": [
    "%%time\n",
    "img = cv2.cvtColor(cv2.imread(\"images/single_face.jpg\"), cv2.COLOR_BGR2RGB)\n",
    "face_info = face_detector.detect_faces(img)\n",
    "\n",
    "print(\"Number of Faces ==>\",len(face_info))\n",
    "\n",
    "for faces in face_info:\n",
    "    x,y,width,height = faces[\"box\"]\n",
    "    cv2.rectangle(img,(x,y),(x+width,y+height),(255,0,0),2)\n",
    "img = cv2.cvtColor(img, cv2.COLOR_RGB2BGR)\n",
    "\n",
    "cv2.imwrite(\"output_images/mtcnn_single_face.jpg\",img)"
   ]
  },
  {
   "cell_type": "code",
   "execution_count": 7,
   "metadata": {},
   "outputs": [
    {
     "data": {
      "text/plain": [
       "[{'box': [208, 122, 156, 207],\n",
       "  'confidence': 1.0,\n",
       "  'keypoints': {'left_eye': (243, 205),\n",
       "   'right_eye': (306, 203),\n",
       "   'nose': (271, 244),\n",
       "   'mouth_left': (249, 276),\n",
       "   'mouth_right': (311, 274)}}]"
      ]
     },
     "execution_count": 7,
     "metadata": {},
     "output_type": "execute_result"
    }
   ],
   "source": [
    "face_info"
   ]
  },
  {
   "cell_type": "markdown",
   "metadata": {},
   "source": [
    "# Face Recognition Module "
   ]
  },
  {
   "cell_type": "code",
   "execution_count": 8,
   "metadata": {},
   "outputs": [],
   "source": [
    "import cv2\n",
    "import face_recognition"
   ]
  },
  {
   "cell_type": "code",
   "execution_count": 11,
   "metadata": {},
   "outputs": [
    {
     "name": "stdout",
     "output_type": "stream",
     "text": [
      "Number of Faces ==> 1\n",
      "CPU times: user 496 ms, sys: 6.25 ms, total: 502 ms\n",
      "Wall time: 506 ms\n"
     ]
    },
    {
     "data": {
      "text/plain": [
       "True"
      ]
     },
     "execution_count": 11,
     "metadata": {},
     "output_type": "execute_result"
    }
   ],
   "source": [
    "%%time\n",
    "# img = cv2.imread(\"images/single_face.jpg\")\n",
    "img = cv2.imread(\"Oleg2.jpg\")\n",
    "face_locations = face_recognition.face_locations(img)\n",
    "\n",
    "print(\"Number of Faces ==>\",len(face_locations))\n",
    "\n",
    "for top, right, bottom, left in face_locations:\n",
    "        cv2.rectangle(img, (left, top), (right, bottom), (255, 0, 255), 2)\n",
    "cv2.imwrite(\"output_images/face_recognition_single_face.jpg\",img)"
   ]
  }
 ],
 "metadata": {
  "kernelspec": {
   "display_name": "Python 3.8.10 ('venv')",
   "language": "python",
   "name": "python3"
  },
  "language_info": {
   "codemirror_mode": {
    "name": "ipython",
    "version": 3
   },
   "file_extension": ".py",
   "mimetype": "text/x-python",
   "name": "python",
   "nbconvert_exporter": "python",
   "pygments_lexer": "ipython3",
   "version": "3.8.10"
  },
  "vscode": {
   "interpreter": {
    "hash": "633beeccc5aae2a91f083a5022d2562ff9167fb479fb60de1865fad6d93786a2"
   }
  }
 },
 "nbformat": 4,
 "nbformat_minor": 2
}
